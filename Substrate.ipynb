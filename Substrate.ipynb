{
  "nbformat": 4,
  "nbformat_minor": 0,
  "metadata": {
    "colab": {
      "name": "Substrate.ipynb",
      "provenance": [],
      "authorship_tag": "ABX9TyMsxNDvN+W0nbXxP5pPdYeW",
      "include_colab_link": true
    },
    "kernelspec": {
      "name": "python3",
      "display_name": "Python 3"
    }
  },
  "cells": [
    {
      "cell_type": "markdown",
      "metadata": {
        "id": "view-in-github",
        "colab_type": "text"
      },
      "source": [
        "<a href=\"https://colab.research.google.com/github/kashyab12/RAN-Slicing-Simulation/blob/main/Substrate.ipynb\" target=\"_parent\"><img src=\"https://colab.research.google.com/assets/colab-badge.svg\" alt=\"Open In Colab\"/></a>"
      ]
    },
    {
      "cell_type": "code",
      "metadata": {
        "colab": {
          "base_uri": "https://localhost:8080/"
        },
        "id": "CdLiIat2Roq3",
        "outputId": "19e35ef2-5332-48cf-ae47-e12fa964bc70"
      },
      "source": [
        "!echo \"deb http://downloads.skewed.de/apt bionic main\" >> /etc/apt/sources.list\n",
        "!apt-key adv --keyserver keys.openpgp.org --recv-key 612DEFB798507F25\n",
        "!apt-get update\n",
        "!apt-get install python3-graph-tool python3-cairo python3-matplotlib"
      ],
      "execution_count": 12,
      "outputs": [
        {
          "output_type": "stream",
          "text": [
            "Executing: /tmp/apt-key-gpghome.uOPUmGaZCb/gpg.1.sh --keyserver keys.openpgp.org --recv-key 612DEFB798507F25\n",
            "gpg: key 612DEFB798507F25: \"Tiago de Paula Peixoto <tiago@skewed.de>\" not changed\n",
            "gpg: Total number processed: 1\n",
            "gpg:              unchanged: 1\n",
            "Hit:1 https://cloud.r-project.org/bin/linux/ubuntu bionic-cran40/ InRelease\n",
            "Ign:2 https://developer.download.nvidia.com/compute/cuda/repos/ubuntu1804/x86_64  InRelease\n",
            "Ign:3 https://developer.download.nvidia.com/compute/machine-learning/repos/ubuntu1804/x86_64  InRelease\n",
            "Hit:4 https://developer.download.nvidia.com/compute/cuda/repos/ubuntu1804/x86_64  Release\n",
            "Hit:5 https://developer.download.nvidia.com/compute/machine-learning/repos/ubuntu1804/x86_64  Release\n",
            "Get:6 http://security.ubuntu.com/ubuntu bionic-security InRelease [88.7 kB]\n",
            "Hit:7 http://archive.ubuntu.com/ubuntu bionic InRelease\n",
            "Hit:8 http://ppa.launchpad.net/c2d4u.team/c2d4u4.0+/ubuntu bionic InRelease\n",
            "Get:10 http://archive.ubuntu.com/ubuntu bionic-updates InRelease [88.7 kB]\n",
            "Hit:11 http://downloads.skewed.de/apt bionic InRelease\n",
            "Hit:13 http://ppa.launchpad.net/cran/libgit2/ubuntu bionic InRelease\n",
            "Get:14 http://archive.ubuntu.com/ubuntu bionic-backports InRelease [74.6 kB]\n",
            "Hit:15 http://ppa.launchpad.net/graphics-drivers/ppa/ubuntu bionic InRelease\n",
            "Fetched 252 kB in 2s (119 kB/s)\n",
            "Reading package lists... Done\n",
            "W: Target Packages (main/binary-amd64/Packages) is configured multiple times in /etc/apt/sources.list:51 and /etc/apt/sources.list:52\n",
            "W: Target Packages (main/binary-all/Packages) is configured multiple times in /etc/apt/sources.list:51 and /etc/apt/sources.list:52\n",
            "W: Target Packages (main/binary-amd64/Packages) is configured multiple times in /etc/apt/sources.list:51 and /etc/apt/sources.list:52\n",
            "W: Target Packages (main/binary-all/Packages) is configured multiple times in /etc/apt/sources.list:51 and /etc/apt/sources.list:52\n",
            "Reading package lists... Done\n",
            "Building dependency tree       \n",
            "Reading state information... Done\n",
            "python3-cairo is already the newest version (1.16.2-1).\n",
            "python3-matplotlib is already the newest version (2.1.1-2ubuntu3).\n",
            "python3-graph-tool is already the newest version (2.35).\n",
            "0 upgraded, 0 newly installed, 0 to remove and 19 not upgraded.\n",
            "W: Target Packages (main/binary-amd64/Packages) is configured multiple times in /etc/apt/sources.list:51 and /etc/apt/sources.list:52\n",
            "W: Target Packages (main/binary-all/Packages) is configured multiple times in /etc/apt/sources.list:51 and /etc/apt/sources.list:52\n"
          ],
          "name": "stdout"
        }
      ]
    },
    {
      "cell_type": "code",
      "metadata": {
        "id": "xPx7_qA7RyWT"
      },
      "source": [
        "# Import Statements\n",
        "from graph_tool.all import *"
      ],
      "execution_count": 13,
      "outputs": []
    },
    {
      "cell_type": "code",
      "metadata": {
        "id": "eBjTGXnKR5MO"
      },
      "source": [
        "# Declaring the required Global Variables\n",
        "substrateNetwork = Graph(directed=False)\n",
        "sbsTowers = []\n",
        "resCapList = [4, 4, 4, 4, 4]\n",
        "sbsTowerConnectionList = [(0, 2), (0, 4), (1, 2), (1, 3), (1, 4), (2, 3), (3, 4)]\n",
        "sbsTowerEdges = []"
      ],
      "execution_count": 14,
      "outputs": []
    },
    {
      "cell_type": "code",
      "metadata": {
        "id": "BRJbJ9SLSGqQ"
      },
      "source": [
        "# Function to set the properties for the Substrate Network\n",
        "\n",
        "def setSbsNetworkProperties():\n",
        "  # Creating Properties for the Substrate Network\n",
        "  # ---------------------------------------------\n",
        "\n",
        "  # Giving the Substrate Vertices a Name Property\n",
        "  nameProp = substrateNetwork.new_vertex_property(\"string\")\n",
        "  substrateNetwork.vertex_properties.vertexName = nameProp\n",
        "\n",
        "  # Giving the Substrate Vertices a Resource Capacity Property\n",
        "  resourceCapacityProp = substrateNetwork.new_vertex_property(\"int\")\n",
        "  substrateNetwork.vertex_properties.resourceCapacity = resourceCapacityProp\n",
        "\n",
        "  # Giving the Substrate Vertices a Resource Property\n",
        "  resourceProp = substrateNetwork.new_vertex_property(\"int\")\n",
        "  substrateNetwork.vertex_properties.resources = resourceProp\n",
        "\n",
        "  # Giving the Substrate Vertices a Bandwidth Property\n",
        "  capacityProp = substrateNetwork.new_edge_property(\"int\")\n",
        "  substrateNetwork.edge_properties.bandwidth = capacityProp\n",
        "\n",
        "  # Giving the Substrate Vertices a Resource Capacity Property\n",
        "  binaryMappingVar = substrateNetwork.new_vertex_property(\"int\")\n",
        "  substrateNetwork.vertex_properties.binaryMappingVar = binaryMappingVar "
      ],
      "execution_count": 15,
      "outputs": []
    },
    {
      "cell_type": "code",
      "metadata": {
        "id": "V5rf5Le9TueM"
      },
      "source": [
        "def createSbsTowers():\n",
        "  # Creating the Substrate Network Towers\n",
        "  \n",
        "  for idx in range(5):\n",
        "    sbsVertex = substrateNetwork.add_vertex()\n",
        "    sbsTowers.append(sbsVertex)"
      ],
      "execution_count": 16,
      "outputs": []
    },
    {
      "cell_type": "code",
      "metadata": {
        "id": "6gve2U8mT_5l"
      },
      "source": [
        "def setSbsTowerProperties():\n",
        "  # Setting the resource capacity for the Network Towers\n",
        "\n",
        "  for idx in range(5):\n",
        "    substrateNetwork.vertex_properties.resourceCapacity[sbsTowers[idx]] = resCapList[idx]\n",
        "\n",
        "  # Setting the resource value for the Network Towers\n",
        "\n",
        "  for idx in range(5):\n",
        "    substrateNetwork.vertex_properties.resources[sbsTowers[idx]] = -1\n",
        "\n",
        "  # Setting the Binary Mapping Variable for the Network Towers\n",
        "\n",
        "  for idx in range(5):\n",
        "    substrateNetwork.vertex_properties.binaryMappingVar[sbsTowers[idx]] = -1"
      ],
      "execution_count": 17,
      "outputs": []
    },
    {
      "cell_type": "code",
      "metadata": {
        "id": "4K-gGB9Mf-8G"
      },
      "source": [
        "def createSbsTowerConnections():\n",
        "\n",
        "  for sbs_connection in sbsTowerConnectionList:\n",
        "    sbsEdge = substrateNetwork.add_edge(sbs_connection[0], sbs_connection[1])\n",
        "    sbsTowerEdges.append(sbsEdge)\n",
        "\n",
        "  # Setting the Bandwidth Property on the Connections between the RAN Slices\n",
        "  # !! Hard Coded Value Included within this Loop !!\n",
        "\n",
        "  for edgeConnection in sbsTowerEdges:\n",
        "    substrateNetwork.edge_properties.bandwidth[edgeConnection] = 5"
      ],
      "execution_count": 18,
      "outputs": []
    }
  ]
}